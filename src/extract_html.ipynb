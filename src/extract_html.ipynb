{
 "cells": [
  {
   "cell_type": "markdown",
   "metadata": {},
   "source": [
    "## Using selenium to click through load more trails\n",
    "\n",
    "- Alltrails search result shows only 10 entries after search.\n",
    "- Extracted HTML for 54 states, each state with max 500 trails\n",
    "- Saved extraced HTML into .html file named \"stated_name.html\""
   ]
  },
  {
   "cell_type": "code",
   "execution_count": 8,
   "metadata": {},
   "outputs": [],
   "source": [
    "import time\n",
    "from selenium import webdriver\n",
    "from selenium.webdriver.chrome.options import Options\n",
    "from bs4 import BeautifulSoup\n",
    "\n",
    "import warnings\n",
    "warnings.filterwarnings('ignore')\n",
    "\n",
    "from pymongo import MongoClient\n",
    "import pprint\n",
    "\n",
    "import copy\n",
    "import pandas as pd"
   ]
  },
  {
   "cell_type": "code",
   "execution_count": 2,
   "metadata": {},
   "outputs": [],
   "source": [
    "states=[\"alabama\", \"alaska\", \"arizona\", \"arkansas\", \"california\", \n",
    "        \"colorado\", \"connecticut\", \"delaware\", \"florida\", \"georgia\", \n",
    "        \"hawaii\", \"idaho\", \"illinois\", \"indiana\", \"iowa\", \n",
    "        \"kansas\", \"kentucky\", \"louisiana\", \"maine\", \"maryland\", \n",
    "        \"massachusetts\", \"michigan\", \"minnesota\", \"mississippi\", \"missouri\", \n",
    "        \"montana\", \"nebraska\", \"nevada\", \"new-hampshire\", \"new-jersey\", \n",
    "        \"new-mexico\", \"new-york\", \"north-carolina\", \"north-dakota\", \"ohio\",\n",
    "        \"oklahoma\", \"oregon\", \"pennsylvania\", \"rhode-island\", \"south-carolina\",\n",
    "        \"south-dakota\", \"tennessee\", \"texas\", \"utah\", \"vermont\",\n",
    "        \"virginia\", \"washington\", \"west-virginia\", \"wisconsin\", \"wyoming\"]"
   ]
  },
  {
   "cell_type": "code",
   "execution_count": 5,
   "metadata": {
    "collapsed": true
   },
   "outputs": [
    {
     "name": "stdout",
     "output_type": "stream",
     "text": [
      "alabama\n",
      "alaska\n",
      "arizona\n",
      "arkansas\n",
      "california\n",
      "colorado\n",
      "connecticut\n",
      "delaware\n",
      "florida\n",
      "georgia\n",
      "hawaii\n",
      "idaho\n",
      "illinois\n",
      "indiana\n",
      "iowa\n",
      "kansas\n",
      "kentucky\n",
      "louisiana\n",
      "maine\n",
      "maryland\n",
      "massachusetts\n",
      "michigan\n",
      "minnesota\n",
      "mississippi\n",
      "missouri\n",
      "montana\n",
      "nebraska\n",
      "nevada\n",
      "new-hampshire\n",
      "new-jersey\n",
      "new-mexico\n",
      "new-york\n",
      "north-carolina\n",
      "north-dakota\n",
      "ohio\n",
      "oklahoma\n",
      "oregon\n",
      "pennsylvania\n",
      "rhode-island\n",
      "south-carolina\n",
      "south-dakota\n",
      "tennessee\n",
      "texas\n",
      "utah\n",
      "vermont\n",
      "virginia\n",
      "washington\n",
      "west-virginia\n",
      "wisconsin\n",
      "wyoming\n"
     ]
    }
   ],
   "source": [
    "for i in range(len(states)):\n",
    "    print(states[i])\n",
    "    url='https://www.alltrails.com/us/' + states[i]\n",
    "    chrome_options = Options()\n",
    "    chrome_options.add_argument(\"--headless\")\n",
    "    driver = webdriver.Chrome('/Users/eunheelim/Capstone1/chromedriver', options=chrome_options)\n",
    "    driver.get(url)\n",
    "    \n",
    "    html = driver.page_source.encode('utf-8')\n",
    "    page_num = 0\n",
    "    while True:\n",
    "        try:\n",
    "            driver.find_element_by_css_selector('button.styles-module__button___1nuva ').click()\n",
    "            time.sleep(0.5)\n",
    "            page_num += 1\n",
    "            #if page_num%20==0:\n",
    "                #print(\"getting page number \"+str(page_num))\n",
    "            if page_num==49: \n",
    "                break\n",
    "        except:\n",
    "            break\n",
    "\n",
    "    html = driver.page_source.encode('utf-8')\n",
    "    \n",
    "    # Save html for each state into html file\n",
    "    soup = BeautifulSoup(html)\n",
    "    filename = '/Users/eunheelim/Capstone1/test_html/'+ states[i]+'.html'\n",
    "    with open(filename, 'w') as file:\n",
    "        file.write(str(soup))"
   ]
  },
  {
   "cell_type": "code",
   "execution_count": 10,
   "metadata": {},
   "outputs": [],
   "source": [
    "new_states=['hawaii', 'washington', 'arizona','oregon','missouri','gerogia','maine','maryland','mississippi','iowa']"
   ]
  },
  {
   "cell_type": "code",
   "execution_count": 11,
   "metadata": {},
   "outputs": [
    {
     "name": "stdout",
     "output_type": "stream",
     "text": [
      "['hawaii', 'washington', 'arizona', 'oregon', 'missouri', 'gerogia', 'maine', 'maryland', 'mississippi', 'iowa']\n"
     ]
    }
   ],
   "source": [
    "print(new_states)"
   ]
  },
  {
   "cell_type": "code",
   "execution_count": 14,
   "metadata": {},
   "outputs": [
    {
     "name": "stdout",
     "output_type": "stream",
     "text": [
      "georgia\n"
     ]
    }
   ],
   "source": [
    "for i in range(len(new_states)):\n",
    "    print(new_states[i])\n",
    "    url='https://www.alltrails.com/us/'+new_states[i]\n",
    "    chrome_options = Options()\n",
    "    chrome_options.add_argument(\"--headless\")\n",
    "    driver = webdriver.Chrome('/Users/eunheelim/Capstone1/chromedriver', options=chrome_options)\n",
    "    driver.get(url)\n",
    "\n",
    "    html = driver.page_source.encode('utf-8')\n",
    "    page_num = 0\n",
    "    while True:\n",
    "        try:\n",
    "            driver.find_element_by_css_selector('button.styles-module__button___1nuva ').click()\n",
    "            time.sleep(0.5)\n",
    "            page_num += 1\n",
    "            #if page_num%20==0:\n",
    "                #print(\"getting page number \"+str(page_num))\n",
    "            if page_num==49: \n",
    "                break\n",
    "        except:\n",
    "            break\n",
    "\n",
    "    html = driver.page_source.encode('utf-8')\n",
    "\n",
    "    # Save html for each state into html file\n",
    "    soup = BeautifulSoup(html)\n",
    "    filename = '/Users/eunheelim/Capstone1/test_html/'+new_states[i]+'.html'\n",
    "    with open(filename, 'w') as file:\n",
    "        file.write(str(soup))"
   ]
  },
  {
   "cell_type": "code",
   "execution_count": 13,
   "metadata": {},
   "outputs": [],
   "source": [
    "new_states=['georgia']"
   ]
  },
  {
   "cell_type": "code",
   "execution_count": 15,
   "metadata": {},
   "outputs": [],
   "source": [
    "#for i in range(len(new_states)):\n",
    "#   print(new_states[i])\n",
    "url='https://www.alltrails.com/hawaii'\n",
    "chrome_options = Options()\n",
    "chrome_options.add_argument(\"--headless\")\n",
    "driver = webdriver.Chrome('/Users/eunheelim/Capstone1/chromedriver', options=chrome_options)\n",
    "driver.get(url)\n",
    "\n",
    "html = driver.page_source.encode('utf-8')\n",
    "page_num = 0\n",
    "while True:\n",
    "    try:\n",
    "        driver.find_element_by_css_selector('button.styles-module__button___1nuva ').click()\n",
    "        time.sleep(0.5)\n",
    "        page_num += 1\n",
    "        #if page_num%20==0:\n",
    "            #print(\"getting page number \"+str(page_num))\n",
    "        if page_num==49: \n",
    "            break\n",
    "    except:\n",
    "        break\n",
    "\n",
    "html = driver.page_source.encode('utf-8')\n",
    "\n",
    "# Save html for each state into html file\n",
    "soup = BeautifulSoup(html)\n",
    "filename = '/Users/eunheelim/Capstone1/test_html/hawaii.html'\n",
    "with open(filename, 'w') as file:\n",
    "    file.write(str(soup))"
   ]
  },
  {
   "cell_type": "code",
   "execution_count": null,
   "metadata": {},
   "outputs": [],
   "source": []
  }
 ],
 "metadata": {
  "kernelspec": {
   "display_name": "Python 3",
   "language": "python",
   "name": "python3"
  },
  "language_info": {
   "codemirror_mode": {
    "name": "ipython",
    "version": 3
   },
   "file_extension": ".py",
   "mimetype": "text/x-python",
   "name": "python",
   "nbconvert_exporter": "python",
   "pygments_lexer": "ipython3",
   "version": "3.7.9"
  }
 },
 "nbformat": 4,
 "nbformat_minor": 4
}
