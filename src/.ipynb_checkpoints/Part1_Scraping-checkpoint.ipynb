{
 "cells": [
  {
   "cell_type": "markdown",
   "metadata": {},
   "source": [
    "## Part 1. Scraping trail information from Alltrails.com"
   ]
  },
  {
   "cell_type": "markdown",
   "metadata": {},
   "source": [
    "Part 1 uses three .py files in order to scrape trail information from Alltrails.com. In the src folder, there are 3 .py files that are needed to scrape trail informations. Each .py file utilizes python multiprocessing tool to parallelize scraping processes, that can be executed in terminal or jupyter notebook.\n",
    "\n",
    "1. 'get_state_html.py' : User can specify list of states to scrape alltrails information from. Exicuting this .py file will save .html file that contains urls to individual trail page in each state"
   ]
  },
  {
   "cell_type": "code",
   "execution_count": 1,
   "metadata": {},
   "outputs": [
    {
     "name": "stdout",
     "output_type": "stream",
     "text": [
      "alabama\n",
      "arizona\n",
      "california\n",
      "connecticut\n",
      "florida\n",
      "hawaii\n",
      "illinois\n",
      "iowa\n",
      "kansas\n",
      "arkansas\n",
      "delaware\n",
      "idaho\n",
      "indiana\n",
      "georgia\n",
      "colorado\n",
      "alaska\n",
      "kentucky\n",
      "maine\n",
      "massachusetts\n",
      "minnesota\n",
      "missouri\n",
      "nebraska\n",
      "new-hampshire\n",
      "new-mexico\n",
      "louisiana\n",
      "maryland\n",
      "nevada\n",
      "north-carolina\n",
      "mississippi\n",
      "michigan\n",
      "montana\n",
      "new-jersey\n",
      "new-york\n",
      "ohio\n",
      "oregon\n",
      "rhode-island\n",
      "north-dakota\n",
      "south-carolina\n",
      "south-dakota\n",
      "texas\n",
      "vermont\n",
      "washington\n",
      "wisconsin\n",
      "tennessee\n",
      "oklahoma\n",
      "pennsylvania\n",
      "utah\n",
      "virginia\n",
      "west-virginia\n",
      "wyoming\n"
     ]
    }
   ],
   "source": [
    "!python get_state_html.py"
   ]
  },
  {
   "cell_type": "markdown",
   "metadata": {},
   "source": [
    "2. 'get_trail_urls.py' : User will use .html files from step 1, to extract each trail url that can be used to scrape information on each trail"
   ]
  },
  {
   "cell_type": "code",
   "execution_count": 3,
   "metadata": {},
   "outputs": [
    {
     "name": "stdout",
     "output_type": "stream",
     "text": [
      "ohio\n",
      "oregon\n",
      "illinois\n",
      "mississippi\n",
      "tennessee\n",
      "minnesota\n",
      "south-carolina\n",
      "utah\n",
      "nevada\n",
      "new-hampshire\n",
      "new-york\n",
      "montana\n",
      "new-jersey\n",
      "north-carolina\n",
      "rhode-island\n",
      "louisiana\n",
      "florida\n",
      "oklahoma\n",
      "west-virginia\n",
      "north-dakota\n",
      "delaware\n",
      "kentucky\n",
      "washington\n",
      "connecticut\n",
      "maryland\n",
      "michigan\n",
      "vermont\n",
      "virginia\n",
      "indiana\n",
      "new-mexico\n",
      "south-dakota\n",
      "pennsylvania\n",
      "california\n",
      "alabama\n",
      "arkansas\n",
      "hawaii\n",
      "iowa\n",
      "kansas\n",
      "alaska\n",
      "wyoming\n",
      "wisconsin\n",
      "texas\n",
      "maine\n",
      "colorado\n",
      "missouri\n",
      "massachusetts\n",
      "arizona\n",
      "georgia\n",
      "idaho\n",
      "nebraska\n"
     ]
    }
   ],
   "source": [
    "!python get_trail_urls.py"
   ]
  },
  {
   "cell_type": "markdown",
   "metadata": {},
   "source": [
    "3. 'get_trail_information.py': Using url's from step 2, information on all trails from each state is scraped and saved to a csv file."
   ]
  },
  {
   "cell_type": "code",
   "execution_count": null,
   "metadata": {},
   "outputs": [],
   "source": [
    "%%time\n",
    "!python get_trail_information.py"
   ]
  },
  {
   "cell_type": "code",
   "execution_count": null,
   "metadata": {},
   "outputs": [],
   "source": []
  }
 ],
 "metadata": {
  "kernelspec": {
   "display_name": "Python 3",
   "language": "python",
   "name": "python3"
  },
  "language_info": {
   "codemirror_mode": {
    "name": "ipython",
    "version": 3
   },
   "file_extension": ".py",
   "mimetype": "text/x-python",
   "name": "python",
   "nbconvert_exporter": "python",
   "pygments_lexer": "ipython3",
   "version": "3.7.9"
  }
 },
 "nbformat": 4,
 "nbformat_minor": 4
}
