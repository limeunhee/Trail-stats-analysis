{
 "cells": [
  {
   "cell_type": "markdown",
   "metadata": {},
   "source": [
    "# Importing libaries"
   ]
  },
  {
   "cell_type": "code",
   "execution_count": 21,
   "metadata": {},
   "outputs": [],
   "source": [
    "import glob\n",
    "import os \n",
    "import pandas as pd\n",
    "import numpy as np\n",
    "import matplotlib.pyplot as plt\n",
    "import seaborn as sns\n",
    "import plotly.express as px\n",
    "from wordcloud import WordCloud, STOPWORDS\n",
    "from functools import reduce\n",
    "from PIL import Image"
   ]
  },
  {
   "cell_type": "markdown",
   "metadata": {},
   "source": [
    "# Importing functions to be used in this notebook"
   ]
  },
  {
   "cell_type": "code",
   "execution_count": 22,
   "metadata": {},
   "outputs": [],
   "source": [
    "def convert_to_mins(string):\n",
    "    \n",
    "    a=string.split(' ')\n",
    "    \n",
    "    if len(a)==4:\n",
    "        duration_in_min = int(a[0])*60 + int(a[2])\n",
    "        \n",
    "    elif (len(a)==2) and (a[1]=='m'):\n",
    "        duration_in_min = int(a[0])\n",
    "        \n",
    "    elif (len(a)==2) and (a[1]=='h'):\n",
    "        duration_in_min = int(a[0])*60\n",
    "        \n",
    "    elif (len(a)==1) and (a[0]=='Multi-day') :\n",
    "        duration_in_min = 1500\n",
    "        \n",
    "    else:\n",
    "        duration_in_min = None\n",
    "        \n",
    "    return duration_in_min"
   ]
  },
  {
   "cell_type": "code",
   "execution_count": 23,
   "metadata": {},
   "outputs": [],
   "source": [
    "def convert_to_miles(string):\n",
    "    a=string.split(' ')\n",
    "    if (len(a)==2) and (a[1]=='mi'):\n",
    "        distance = float(a[0])\n",
    "    else:\n",
    "        distance = None\n",
    "    return distance"
   ]
  },
  {
   "cell_type": "code",
   "execution_count": 24,
   "metadata": {},
   "outputs": [],
   "source": [
    "def number_of_tags(lst):\n",
    "    \n",
    "    return len(lst.split(','))"
   ]
  },
  {
   "cell_type": "code",
   "execution_count": 25,
   "metadata": {},
   "outputs": [],
   "source": [
    "def number_of_words(string):\n",
    "    return (len(string))"
   ]
  },
  {
   "cell_type": "code",
   "execution_count": 26,
   "metadata": {},
   "outputs": [],
   "source": [
    "def difficulty(string):\n",
    "    if string =='easy':\n",
    "        return 1\n",
    "    elif string == 'moderate':\n",
    "        return 2\n",
    "    elif string=='hard':\n",
    "        return 3\n",
    "    else:\n",
    "        print('hah')"
   ]
  },
  {
   "cell_type": "code",
   "execution_count": 27,
   "metadata": {},
   "outputs": [],
   "source": [
    "def is_there(string):\n",
    "    if NaN:\n",
    "        return 0\n",
    "    else:\n",
    "        return 1"
   ]
  },
  {
   "cell_type": "code",
   "execution_count": 28,
   "metadata": {},
   "outputs": [],
   "source": [
    "def code_generator(name):\n",
    "    return us_state_abbrev[name.replace('-', ' ').title()]"
   ]
  },
  {
   "cell_type": "code",
   "execution_count": 29,
   "metadata": {},
   "outputs": [],
   "source": [
    "def gen_tag_list(string):\n",
    "    return eval(string)"
   ]
  },
  {
   "cell_type": "code",
   "execution_count": 30,
   "metadata": {},
   "outputs": [],
   "source": [
    "us_state_abbrev = {\n",
    "'Alabama': 'AL',\n",
    "'Alaska': 'AK',\n",
    "'American Samoa': 'AS',\n",
    "'Arizona': 'AZ',\n",
    "'Arkansas': 'AR',\n",
    "'California': 'CA',\n",
    "'Colorado': 'CO',\n",
    "'Connecticut': 'CT',\n",
    "'Delaware': 'DE',\n",
    "'District of Columbia': 'DC',\n",
    "'Florida': 'FL',\n",
    "'Georgia': 'GA',\n",
    "'Guam': 'GU',\n",
    "'Hawaii': 'HI',\n",
    "'Idaho': 'ID',\n",
    "'Illinois': 'IL',\n",
    "'Indiana': 'IN',\n",
    "'Iowa': 'IA',\n",
    "'Kansas': 'KS',\n",
    "'Kentucky': 'KY',\n",
    "'Louisiana': 'LA',\n",
    "'Maine': 'ME',\n",
    "'Maryland': 'MD',\n",
    "'Massachusetts': 'MA',\n",
    "'Michigan': 'MI',\n",
    "'Minnesota': 'MN',\n",
    "'Mississippi': 'MS',\n",
    "'Missouri': 'MO',\n",
    "'Montana': 'MT',\n",
    "'Nebraska': 'NE',\n",
    "'Nevada': 'NV',\n",
    "'New Hampshire': 'NH',\n",
    "'New Jersey': 'NJ',\n",
    "'New Mexico': 'NM',\n",
    "'New York': 'NY',\n",
    "'North Carolina': 'NC',\n",
    "'North Dakota': 'ND',\n",
    "'Northern Mariana Islands':'MP',\n",
    "'Ohio': 'OH',\n",
    "'Oklahoma': 'OK',\n",
    "'Oregon': 'OR',\n",
    "'Pennsylvania': 'PA',\n",
    "'Puerto Rico': 'PR',\n",
    "'Rhode Island': 'RI',\n",
    "'South Carolina': 'SC',\n",
    "'South Dakota': 'SD',\n",
    "'Tennessee': 'TN',\n",
    "'Texas': 'TX',\n",
    "'Utah': 'UT',\n",
    "'Vermont': 'VT',\n",
    "'Virgin Islands': 'VI',\n",
    "'Virginia': 'VA',\n",
    "'Washington': 'WA',\n",
    "'West Virginia': 'WV',\n",
    "'Wisconsin': 'WI',\n",
    "'Wyoming': 'WY'\n",
    "}"
   ]
  },
  {
   "cell_type": "markdown",
   "metadata": {},
   "source": [
    "# Merging two csv files fore each state"
   ]
  },
  {
   "cell_type": "code",
   "execution_count": 31,
   "metadata": {},
   "outputs": [],
   "source": [
    "path1 ='/Users/eunheelim/Capstone1/data/*.csv'\n",
    "path2 = '/Users/eunheelim/Capstone1/data2/*.csv'\n",
    "\n",
    "filelist1=sorted(glob.iglob(path1))\n",
    "filelist2=sorted(glob.iglob(path2))\n",
    "\n",
    "df = pd.DataFrame() \n",
    "\n",
    "for file in filelist1:\n",
    "    state = file[32:-4]\n",
    "    file2 =  '/Users/eunheelim/Capstone1/data2/' + state + '2.csv'\n",
    "    \n",
    "    df1 = pd.read_csv(file,\n",
    "                  header=None,\n",
    "                  names=['distance', 'duration'])\n",
    "\n",
    "    df2 = df2 = pd.read_csv(file2,\n",
    "                 index_col='Unnamed: 0')\n",
    "    \n",
    "    df0= df2.join(df1)\n",
    "    df0['state'] = state\n",
    "    \n",
    "    df= df.append(df0)"
   ]
  },
  {
   "cell_type": "markdown",
   "metadata": {},
   "source": [
    "# Data engineering on the data frame"
   ]
  },
  {
   "cell_type": "code",
   "execution_count": 32,
   "metadata": {},
   "outputs": [],
   "source": [
    "df['difficulty_rating'] = df['difficulty'].apply(difficulty)\n",
    "df['short'] = df['short_description'].apply(number_of_words)\n",
    "df['long'] = np.where(df['long_description'].isna(), 0, 1)\n",
    "df['n_tags'] = df['tag_list'].apply(number_of_tags)\n",
    "\n",
    "df['distance_mi']= df['distance'].apply(convert_to_miles)\n",
    "df['duration_min']= df['duration'].apply(convert_to_mins)\n",
    "df[\"State\"] = df['state'].apply(code_generator)\n",
    "\n",
    "df= df.drop(columns={'distance', 'duration','best_rating','worst_rating','difficulty'})\n",
    "\n",
    "# Changing column names\n",
    "df= df.rename(columns={\"average_rating\": \"stars\", \"difficulty_rating\":\"difficulty\", \"distance_mi\":'distance',\"duration_min\":\"duration\"})\n",
    "\n",
    "df = df[df['duration']<1500]\n",
    "df = df[df['review_count']!=0]"
   ]
  },
  {
   "cell_type": "code",
   "execution_count": 33,
   "metadata": {},
   "outputs": [
    {
     "data": {
      "text/html": [
       "<div>\n",
       "<style scoped>\n",
       "    .dataframe tbody tr th:only-of-type {\n",
       "        vertical-align: middle;\n",
       "    }\n",
       "\n",
       "    .dataframe tbody tr th {\n",
       "        vertical-align: top;\n",
       "    }\n",
       "\n",
       "    .dataframe thead th {\n",
       "        text-align: right;\n",
       "    }\n",
       "</style>\n",
       "<table border=\"1\" class=\"dataframe\">\n",
       "  <thead>\n",
       "    <tr style=\"text-align: right;\">\n",
       "      <th></th>\n",
       "      <th>name</th>\n",
       "      <th>stars</th>\n",
       "      <th>review_count</th>\n",
       "      <th>location</th>\n",
       "      <th>elevation</th>\n",
       "      <th>route_type</th>\n",
       "      <th>short_description</th>\n",
       "      <th>long_description</th>\n",
       "      <th>tag_list</th>\n",
       "      <th>n_photos</th>\n",
       "      <th>n_recordings</th>\n",
       "      <th>n_completed</th>\n",
       "      <th>state</th>\n",
       "      <th>difficulty</th>\n",
       "      <th>short</th>\n",
       "      <th>long</th>\n",
       "      <th>n_tags</th>\n",
       "      <th>distance</th>\n",
       "      <th>duration</th>\n",
       "      <th>State</th>\n",
       "    </tr>\n",
       "  </thead>\n",
       "  <tbody>\n",
       "    <tr>\n",
       "      <th>0</th>\n",
       "      <td>Walls of Jericho Trail</td>\n",
       "      <td>4.5</td>\n",
       "      <td>881</td>\n",
       "      <td>Scottsboro, Alabama</td>\n",
       "      <td>1699.0</td>\n",
       "      <td>Out &amp; Back</td>\n",
       "      <td>Walls of Jericho Trail is a 9 mile heavily tra...</td>\n",
       "      <td>NaN</td>\n",
       "      <td>['Dog friendly', 'Camping', 'Hiking', 'Horseba...</td>\n",
       "      <td>1443</td>\n",
       "      <td>574</td>\n",
       "      <td>1584</td>\n",
       "      <td>alabama</td>\n",
       "      <td>3</td>\n",
       "      <td>296</td>\n",
       "      <td>0</td>\n",
       "      <td>17</td>\n",
       "      <td>9.0</td>\n",
       "      <td>277.0</td>\n",
       "      <td>AL</td>\n",
       "    </tr>\n",
       "    <tr>\n",
       "      <th>1</th>\n",
       "      <td>Cave Creek Trail from Cheaha Trailhead</td>\n",
       "      <td>4.5</td>\n",
       "      <td>466</td>\n",
       "      <td>Cheaha State Park</td>\n",
       "      <td>1105.0</td>\n",
       "      <td>Loop</td>\n",
       "      <td>Cave Creek Trail from Cheaha Trailhead is a 6....</td>\n",
       "      <td>Offline map recommended. Users have reported t...</td>\n",
       "      <td>['Dogs on leash', 'Backpacking', 'Camping', 'H...</td>\n",
       "      <td>1035</td>\n",
       "      <td>449</td>\n",
       "      <td>857</td>\n",
       "      <td>alabama</td>\n",
       "      <td>2</td>\n",
       "      <td>325</td>\n",
       "      <td>1</td>\n",
       "      <td>10</td>\n",
       "      <td>6.7</td>\n",
       "      <td>207.0</td>\n",
       "      <td>AL</td>\n",
       "    </tr>\n",
       "    <tr>\n",
       "      <th>2</th>\n",
       "      <td>Sougahoagdee Falls</td>\n",
       "      <td>4.5</td>\n",
       "      <td>357</td>\n",
       "      <td>William B Bankhead National Forest</td>\n",
       "      <td>436.0</td>\n",
       "      <td>Out &amp; Back</td>\n",
       "      <td>Sougahoagdee Falls is a 4 mile heavily traffic...</td>\n",
       "      <td>NaN</td>\n",
       "      <td>['Dogs on leash', 'Kid friendly', 'Hiking', 'N...</td>\n",
       "      <td>382</td>\n",
       "      <td>243</td>\n",
       "      <td>480</td>\n",
       "      <td>alabama</td>\n",
       "      <td>1</td>\n",
       "      <td>279</td>\n",
       "      <td>0</td>\n",
       "      <td>10</td>\n",
       "      <td>4.0</td>\n",
       "      <td>102.0</td>\n",
       "      <td>AL</td>\n",
       "    </tr>\n",
       "    <tr>\n",
       "      <th>3</th>\n",
       "      <td>Cane Creek Canyon Nature Preserve</td>\n",
       "      <td>5.0</td>\n",
       "      <td>230</td>\n",
       "      <td>Cane Creek Canyon Nature Preserve</td>\n",
       "      <td>974.0</td>\n",
       "      <td>Loop</td>\n",
       "      <td>Cane Creek Canyon Nature Preserve is a 8.2 mil...</td>\n",
       "      <td>Privately owned scenic natural area open to th...</td>\n",
       "      <td>['Dog friendly', 'Camping', 'Hiking', 'Nature ...</td>\n",
       "      <td>552</td>\n",
       "      <td>158</td>\n",
       "      <td>365</td>\n",
       "      <td>alabama</td>\n",
       "      <td>2</td>\n",
       "      <td>291</td>\n",
       "      <td>1</td>\n",
       "      <td>14</td>\n",
       "      <td>8.2</td>\n",
       "      <td>238.0</td>\n",
       "      <td>AL</td>\n",
       "    </tr>\n",
       "    <tr>\n",
       "      <th>4</th>\n",
       "      <td>Chinnabee Silent Trail</td>\n",
       "      <td>4.5</td>\n",
       "      <td>298</td>\n",
       "      <td>Cheaha Wilderness</td>\n",
       "      <td>892.0</td>\n",
       "      <td>Out &amp; Back</td>\n",
       "      <td>Chinnabee Silent Trail is a 7.3 mile heavily t...</td>\n",
       "      <td>Note: Users have reported that the trailhead f...</td>\n",
       "      <td>['Dogs on leash', 'Backpacking', 'Camping', 'F...</td>\n",
       "      <td>449</td>\n",
       "      <td>234</td>\n",
       "      <td>668</td>\n",
       "      <td>alabama</td>\n",
       "      <td>2</td>\n",
       "      <td>307</td>\n",
       "      <td>1</td>\n",
       "      <td>19</td>\n",
       "      <td>7.3</td>\n",
       "      <td>212.0</td>\n",
       "      <td>AL</td>\n",
       "    </tr>\n",
       "  </tbody>\n",
       "</table>\n",
       "</div>"
      ],
      "text/plain": [
       "                                     name  stars  review_count  \\\n",
       "0                  Walls of Jericho Trail    4.5           881   \n",
       "1  Cave Creek Trail from Cheaha Trailhead    4.5           466   \n",
       "2                      Sougahoagdee Falls    4.5           357   \n",
       "3       Cane Creek Canyon Nature Preserve    5.0           230   \n",
       "4                  Chinnabee Silent Trail    4.5           298   \n",
       "\n",
       "                             location  elevation  route_type  \\\n",
       "0                 Scottsboro, Alabama     1699.0  Out & Back   \n",
       "1                   Cheaha State Park     1105.0        Loop   \n",
       "2  William B Bankhead National Forest      436.0  Out & Back   \n",
       "3   Cane Creek Canyon Nature Preserve      974.0        Loop   \n",
       "4                   Cheaha Wilderness      892.0  Out & Back   \n",
       "\n",
       "                                   short_description  \\\n",
       "0  Walls of Jericho Trail is a 9 mile heavily tra...   \n",
       "1  Cave Creek Trail from Cheaha Trailhead is a 6....   \n",
       "2  Sougahoagdee Falls is a 4 mile heavily traffic...   \n",
       "3  Cane Creek Canyon Nature Preserve is a 8.2 mil...   \n",
       "4  Chinnabee Silent Trail is a 7.3 mile heavily t...   \n",
       "\n",
       "                                    long_description  \\\n",
       "0                                                NaN   \n",
       "1  Offline map recommended. Users have reported t...   \n",
       "2                                                NaN   \n",
       "3  Privately owned scenic natural area open to th...   \n",
       "4  Note: Users have reported that the trailhead f...   \n",
       "\n",
       "                                            tag_list  n_photos  n_recordings  \\\n",
       "0  ['Dog friendly', 'Camping', 'Hiking', 'Horseba...      1443           574   \n",
       "1  ['Dogs on leash', 'Backpacking', 'Camping', 'H...      1035           449   \n",
       "2  ['Dogs on leash', 'Kid friendly', 'Hiking', 'N...       382           243   \n",
       "3  ['Dog friendly', 'Camping', 'Hiking', 'Nature ...       552           158   \n",
       "4  ['Dogs on leash', 'Backpacking', 'Camping', 'F...       449           234   \n",
       "\n",
       "   n_completed    state  difficulty  short  long  n_tags  distance  duration  \\\n",
       "0         1584  alabama           3    296     0      17       9.0     277.0   \n",
       "1          857  alabama           2    325     1      10       6.7     207.0   \n",
       "2          480  alabama           1    279     0      10       4.0     102.0   \n",
       "3          365  alabama           2    291     1      14       8.2     238.0   \n",
       "4          668  alabama           2    307     1      19       7.3     212.0   \n",
       "\n",
       "  State  \n",
       "0    AL  \n",
       "1    AL  \n",
       "2    AL  \n",
       "3    AL  \n",
       "4    AL  "
      ]
     },
     "execution_count": 33,
     "metadata": {},
     "output_type": "execute_result"
    }
   ],
   "source": [
    "df.head()"
   ]
  },
  {
   "cell_type": "code",
   "execution_count": 34,
   "metadata": {},
   "outputs": [
    {
     "data": {
      "text/plain": [
       "array([[<AxesSubplot:title={'center':'stars'}>,\n",
       "        <AxesSubplot:title={'center':'review_count'}>,\n",
       "        <AxesSubplot:title={'center':'elevation'}>],\n",
       "       [<AxesSubplot:title={'center':'n_photos'}>,\n",
       "        <AxesSubplot:title={'center':'n_recordings'}>,\n",
       "        <AxesSubplot:title={'center':'n_completed'}>],\n",
       "       [<AxesSubplot:title={'center':'difficulty'}>,\n",
       "        <AxesSubplot:title={'center':'short'}>,\n",
       "        <AxesSubplot:title={'center':'long'}>],\n",
       "       [<AxesSubplot:title={'center':'n_tags'}>,\n",
       "        <AxesSubplot:title={'center':'distance'}>,\n",
       "        <AxesSubplot:title={'center':'duration'}>]], dtype=object)"
      ]
     },
     "execution_count": 34,
     "metadata": {},
     "output_type": "execute_result"
    },
    {
     "data": {
      "image/png": "[encoded data removed]",
      "text/plain": [
       "<Figure size 1440x1440 with 12 Axes>"
      ]
     },
     "metadata": {
      "needs_background": "light"
     },
     "output_type": "display_data"
    }
   ],
   "source": [
    "df.hist(bins=24, figsize=(20,20))"
   ]
  },
  {
   "cell_type": "markdown",
   "metadata": {},
   "source": [
    "# Hypothesis testing"
   ]
  },
  {
   "cell_type": "markdown",
   "metadata": {},
   "source": [
    "- Null: Mean star rating for trails with and without long description are the same\n",
    "- Alternative: Mean star rating for trails with and without long description are not the same"
   ]
  },
  {
   "cell_type": "code",
   "execution_count": 35,
   "metadata": {},
   "outputs": [],
   "source": [
    "from scipy import stats"
   ]
  },
  {
   "cell_type": "markdown",
   "metadata": {},
   "source": [
    "## Long description existence \n",
    "\n",
    "- Null: Mean star rating for trails with and without long description are the same\n",
    "- Alternative: Mean star rating for trails with and without long description are not the same"
   ]
  },
  {
   "cell_type": "code",
   "execution_count": 36,
   "metadata": {},
   "outputs": [
    {
     "name": "stdout",
     "output_type": "stream",
     "text": [
      "ttest_ind:            t = 7.06415  p = 1.66592e-12\n"
     ]
    }
   ],
   "source": [
    "# Get sample data.\n",
    "a = df[df['long']==1]['stars']   #Has long description\n",
    "b= df[df['long']==0]['stars']    #Doesn't have long description\n",
    "\n",
    "# Use scipy.stats.ttest_ind.\n",
    "t, p = stats.ttest_ind(a, b, equal_var=False)\n",
    "print(\"ttest_ind:            t = %g  p = %g\" % (t, p))"
   ]
  },
  {
   "cell_type": "markdown",
   "metadata": {},
   "source": [
    "## Short description word count\n",
    "\n",
    "- Null: Mean star rating for trails with >300 vs <= 300 words short description are the same\n",
    "- Alternative: Mean star rating for trails >300 vs <=300 words short description are not the same"
   ]
  },
  {
   "cell_type": "code",
   "execution_count": 56,
   "metadata": {},
   "outputs": [
    {
     "name": "stdout",
     "output_type": "stream",
     "text": [
      "ttest_ind:            t = 4.34886  p = 1.37495e-05\n"
     ]
    }
   ],
   "source": [
    "c = df[df['short']>300]['stars']\n",
    "d = df[df['short']<=300]['stars']\n",
    "\n",
    "t, p = stats.ttest_ind(c, d, equal_var=False)\n",
    "print(\"ttest_ind:            t = %g  p = %g\" % (t, p))"
   ]
  },
  {
   "cell_type": "code",
   "execution_count": 52,
   "metadata": {
    "scrolled": true
   },
   "outputs": [
    {
     "data": {
      "text/plain": [
       "4.338879326831134"
      ]
     },
     "execution_count": 52,
     "metadata": {},
     "output_type": "execute_result"
    }
   ],
   "source": [
    "c.mean()"
   ]
  },
  {
   "cell_type": "code",
   "execution_count": 54,
   "metadata": {
    "scrolled": true
   },
   "outputs": [
    {
     "data": {
      "text/plain": [
       "0.10457221628674197"
      ]
     },
     "execution_count": 54,
     "metadata": {},
     "output_type": "execute_result"
    }
   ],
   "source": [
    "c.var()"
   ]
  },
  {
   "cell_type": "code",
   "execution_count": 53,
   "metadata": {},
   "outputs": [
    {
     "data": {
      "text/plain": [
       "4.3176933765632235"
      ]
     },
     "execution_count": 53,
     "metadata": {},
     "output_type": "execute_result"
    }
   ],
   "source": [
    "d.mean()"
   ]
  },
  {
   "cell_type": "code",
   "execution_count": 55,
   "metadata": {},
   "outputs": [
    {
     "data": {
      "text/plain": [
       "0.1482509324695594"
      ]
     },
     "execution_count": 55,
     "metadata": {},
     "output_type": "execute_result"
    }
   ],
   "source": [
    "d.var()"
   ]
  },
  {
   "cell_type": "code",
   "execution_count": 46,
   "metadata": {},
   "outputs": [
    {
     "data": {
      "image/png": "[encoded data removed]",
      "text/plain": [
       "<Figure size 576x576 with 1 Axes>"
      ]
     },
     "metadata": {
      "needs_background": "light"
     },
     "output_type": "display_data"
    }
   ],
   "source": [
    "c = df[df['short']>300]\n",
    "d = df[df['short']<=300]\n",
    "\n",
    "fig=plt.figure()\n",
    "\n",
    "ax=c['stars'].hist(weights = np.ones_like(c.index) / len(c.index)*100, bins=20,figsize=(8,8))\n",
    "ax2 = d['stars'].hist(weights = np.ones_like(d.index) / len(d.index)*100, bins=20,figsize=(8,8))\n",
    "ax.set_ylabel('% of total trails', fontsize=25)\n",
    "ax.set_xlabel('Star rating', fontsize=25)\n",
    "ax.set_xlim(0,5)\n",
    "ax.set_yscale('log')\n",
    "ax.grid('off')\n",
    "ax.tick_params(labelsize=25)\n",
    "ax.yaxis.labelpad = 20\n",
    "ax.xaxis.labelpad = 20\n",
    "\n",
    "plt.title('Histogram of Star Rating of trails in the US', y=1.05, fontsize=27)\n",
    "plt.show()"
   ]
  },
  {
   "cell_type": "markdown",
   "metadata": {},
   "source": [
    "## Difficulty level"
   ]
  },
  {
   "cell_type": "code",
   "execution_count": 38,
   "metadata": {},
   "outputs": [
    {
     "name": "stdout",
     "output_type": "stream",
     "text": [
      "ttest_ind:            t = -35.9938  p = 5.49578e-251\n"
     ]
    }
   ],
   "source": [
    "e = df[df['difficulty']==1]['stars']\n",
    "f = df[df['difficulty']==3]['stars']\n",
    "\n",
    "t, p = stats.ttest_ind(e, f, equal_var=False)\n",
    "print(\"ttest_ind:            t = %g  p = %g\" % (t, p))"
   ]
  },
  {
   "cell_type": "code",
   "execution_count": null,
   "metadata": {},
   "outputs": [],
   "source": []
  }
 ],
 "metadata": {
  "kernelspec": {
   "display_name": "Python 3",
   "language": "python",
   "name": "python3"
  },
  "language_info": {
   "codemirror_mode": {
    "name": "ipython",
    "version": 3
   },
   "file_extension": ".py",
   "mimetype": "text/x-python",
   "name": "python",
   "nbconvert_exporter": "python",
   "pygments_lexer": "ipython3",
   "version": "3.7.9"
  }
 },
 "nbformat": 4,
 "nbformat_minor": 4
}
